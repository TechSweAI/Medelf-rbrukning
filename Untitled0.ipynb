{
  "nbformat": 4,
  "nbformat_minor": 0,
  "metadata": {
    "colab": {
      "provenance": []
    },
    "kernelspec": {
      "name": "python3",
      "display_name": "Python 3"
    },
    "language_info": {
      "name": "python"
    }
  },
  "cells": [
    {
      "cell_type": "code",
      "source": [
        "\n",
        "# Enkel kalkylator: räkna ut medelförbrukning i MWh och kWh\n",
        "\n",
        "# Exempelförbrukning per fastighet (MWh)\n",
        "förbrukning_mwh = [12.4, 15.8, 9.6, 13.2]\n",
        "\n",
        "# Räkna ut medelvärde i MWh\n",
        "medel_mwh = sum(förbrukning_mwh) / len(förbrukning_mwh)\n",
        "\n",
        "# Omvandla till kWh\n",
        "förbrukning_kwh = [x * 1000 for x in förbrukning_mwh]\n",
        "medel_kwh = sum(förbrukning_kwh) / len(förbrukning_kwh)\n",
        "\n",
        "# Visa resultatet\n",
        "print(\"Medelförbrukning:\")\n",
        "print(f\"- {medel_mwh:.2f} MWh\")\n",
        "print(f\"- {medel_kwh:.0f} kWh\")\n",
        "\n",
        "\n"
      ],
      "metadata": {
        "colab": {
          "base_uri": "https://localhost:8080/"
        },
        "id": "ia63BwVWhGrO",
        "outputId": "d2f83bc0-caa4-4b4f-8d28-307aaae4b224"
      },
      "execution_count": 3,
      "outputs": [
        {
          "output_type": "stream",
          "name": "stdout",
          "text": [
            "Medelförbrukning:\n",
            "- 12.75 MWh\n",
            "- 12750 kWh\n"
          ]
        }
      ]
    }
  ]
}